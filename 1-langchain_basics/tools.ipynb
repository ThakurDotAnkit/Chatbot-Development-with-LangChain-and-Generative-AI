{
 "cells": [
  {
   "cell_type": "markdown",
   "id": "cc747a2e",
   "metadata": {},
   "source": [
    "### What we do in this section\n",
    "\n"
   ]
  }
 ],
 "metadata": {
  "language_info": {
   "name": "python"
  }
 },
 "nbformat": 4,
 "nbformat_minor": 5
}
